{
 "cells": [
  {
   "cell_type": "markdown",
   "id": "12db0237-d64e-4785-b126-85ba9ba6bf4e",
   "metadata": {},
   "source": [
    "## Part 1"
   ]
  },
  {
   "cell_type": "code",
   "execution_count": 12,
   "id": "f0bfe4c3-42a3-4ed0-ae4f-bdcdd0c8cd42",
   "metadata": {
    "tags": []
   },
   "outputs": [
    {
     "data": {
      "text/plain": [
       "-1"
      ]
     },
     "execution_count": 12,
     "metadata": {},
     "output_type": "execute_result"
    }
   ],
   "source": [
    "def f(x, a = 1, b = 1, c =1):\n",
    "    return a * x**3 - b * x**2 - c\n",
    "\n",
    "f(1)"
   ]
  },
  {
   "cell_type": "code",
   "execution_count": 13,
   "id": "eee68625-0112-422e-b02d-46159254ef00",
   "metadata": {
    "tags": []
   },
   "outputs": [
    {
     "data": {
      "text/plain": [
       "-1"
      ]
     },
     "execution_count": 13,
     "metadata": {},
     "output_type": "execute_result"
    }
   ],
   "source": [
    "def df(x, a = 3, b = 2):\n",
    "    return a * x**2 - b * x\n",
    "\n",
    "f(1)"
   ]
  },
  {
   "cell_type": "markdown",
   "id": "c350dc40-494d-417d-8605-2c287ec2c065",
   "metadata": {},
   "source": [
    "## Part 2"
   ]
  },
  {
   "cell_type": "code",
   "execution_count": 3,
   "id": "4ed0b2d0-bf4a-4308-bcde-b1267cda5e7d",
   "metadata": {},
   "outputs": [],
   "source": [
    "def newton(f, df, x0, epsilon = 1e-6, max_iter = 30):\n",
    "    \"\"\"Performs the Newton method on f(x) = x**3 - x**2 -1 for different values of x0. Returns the root, xn, and n, which is the number of \n",
    "    iterations it took to find the root, if n < max_iter and f(xn) < epsilon. Else, return \"Iteration failed\".\n",
    "    \n",
    "    Parameters\n",
    "    ----------\n",
    "    f : function\n",
    "    df: function\n",
    "    x0: float\n",
    "    epsilon: float (the default is 1e-6)\n",
    "    max_iter: int (the default is 30)\n",
    "    \n",
    "    Returns\n",
    "    -------\n",
    "    message : str\n",
    "        Indicates whether iteration was successful.\n",
    "    xn : float or None\n",
    "        The root on success or None on failure.\n",
    "    \"\"\"\n",
    "    n = 0\n",
    "    xn = x0\n",
    "    while (n <= max_iter) and (abs(f(xn)) >= epsilon):\n",
    "        xn1 = xn - (f(xn) / df(xn))\n",
    "        xn = xn1\n",
    "        n += 1\n",
    "    if abs(f(xn)) < epsilon:\n",
    "        print(\"Found root in \" + str(n) + \" iterations\")\n",
    "        return xn\n",
    "    else:\n",
    "        print(\"Iteration failed\")\n",
    "        return None"
   ]
  },
  {
   "cell_type": "markdown",
   "id": "13c84532-28a9-424e-a8f4-26fd4232006c",
   "metadata": {},
   "source": [
    "## Part 3"
   ]
  },
  {
   "cell_type": "code",
   "execution_count": 23,
   "id": "8da2eac2-9e06-4d10-bb86-a9e0289c339f",
   "metadata": {},
   "outputs": [
    {
     "name": "stdout",
     "output_type": "stream",
     "text": [
      "Found root in 26 iterations\n"
     ]
    },
    {
     "data": {
      "text/plain": [
       "1.4655712352599874"
      ]
     },
     "execution_count": 23,
     "metadata": {},
     "output_type": "execute_result"
    }
   ],
   "source": [
    "newton(f, df, 10000)"
   ]
  },
  {
   "cell_type": "code",
   "execution_count": 15,
   "id": "a93cd866-1c9f-4d6e-b8c3-c1717944e80e",
   "metadata": {
    "tags": []
   },
   "outputs": [
    {
     "name": "stdout",
     "output_type": "stream",
     "text": [
      "Iteration failed\n"
     ]
    }
   ],
   "source": [
    "newton(f, df, 0.00001)"
   ]
  },
  {
   "cell_type": "code",
   "execution_count": 25,
   "id": "8c802df2-f4bd-437f-9b81-ee67d5bf1971",
   "metadata": {
    "tags": []
   },
   "outputs": [
    {
     "name": "stdout",
     "output_type": "stream",
     "text": [
      "Found root in 15 iterations\n"
     ]
    },
    {
     "data": {
      "text/plain": [
       "1.4655712318887797"
      ]
     },
     "execution_count": 25,
     "metadata": {},
     "output_type": "execute_result"
    }
   ],
   "source": [
    "newton(f, df, 100)"
   ]
  },
  {
   "cell_type": "code",
   "execution_count": 24,
   "id": "6436be73-a494-4591-9663-c5279ecc7a44",
   "metadata": {
    "tags": []
   },
   "outputs": [
    {
     "name": "stdout",
     "output_type": "stream",
     "text": [
      "Found root in 27 iterations\n"
     ]
    },
    {
     "data": {
      "text/plain": [
       "1.465571231876768"
      ]
     },
     "execution_count": 24,
     "metadata": {},
     "output_type": "execute_result"
    }
   ],
   "source": [
    "newton(f, df, 10000, 1e-8)"
   ]
  },
  {
   "cell_type": "code",
   "execution_count": 17,
   "id": "849aef33-6ad1-44fc-8060-195d2b595ea8",
   "metadata": {
    "tags": []
   },
   "outputs": [
    {
     "name": "stdout",
     "output_type": "stream",
     "text": [
      "Iteration failed\n"
     ]
    }
   ],
   "source": [
    "newton(f, df, 0.00001, 1e-8)"
   ]
  },
  {
   "cell_type": "code",
   "execution_count": 26,
   "id": "85e70106-74db-48a6-a425-0f067fa510d4",
   "metadata": {
    "tags": []
   },
   "outputs": [
    {
     "name": "stdout",
     "output_type": "stream",
     "text": [
      "Found root in 15 iterations\n"
     ]
    },
    {
     "data": {
      "text/plain": [
       "1.4655712318887797"
      ]
     },
     "execution_count": 26,
     "metadata": {},
     "output_type": "execute_result"
    }
   ],
   "source": [
    "newton(f, df, 100, 1e-8)"
   ]
  },
  {
   "cell_type": "markdown",
   "id": "e0fe7738-a6a5-496b-a313-8fd05bc049a2",
   "metadata": {},
   "source": [
    "The function still works when epsilon is reduced to 1e-8. For x0 = 10000 it takes 1 more iteration to converge, while for x0 = 100 it takes the same number of iterations to converge. "
   ]
  }
 ],
 "metadata": {
  "kernelspec": {
   "display_name": "Python 3 (ipykernel)",
   "language": "python",
   "name": "python3"
  },
  "language_info": {
   "codemirror_mode": {
    "name": "ipython",
    "version": 3
   },
   "file_extension": ".py",
   "mimetype": "text/x-python",
   "name": "python",
   "nbconvert_exporter": "python",
   "pygments_lexer": "ipython3",
   "version": "3.10.9"
  }
 },
 "nbformat": 4,
 "nbformat_minor": 5
}
