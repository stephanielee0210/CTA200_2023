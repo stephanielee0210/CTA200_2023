{
 "cells": [
  {
   "cell_type": "markdown",
   "id": "3904e523-a7da-41a3-bd9a-cc31db416968",
   "metadata": {},
   "source": [
    "## Question 1"
   ]
  },
  {
   "cell_type": "code",
   "execution_count": null,
   "id": "0609d33e-35e4-4595-97c0-16c004c6c0d7",
   "metadata": {
    "tags": []
   },
   "outputs": [],
   "source": [
    "import numpy as np\n",
    "import matplotlib.pyplot as plt\n",
    "\n",
    "N_ITERATIONS = 200\n",
    "RES = 2000"
   ]
  },
  {
   "cell_type": "code",
   "execution_count": null,
   "id": "5ee878ee-818a-4fcf-8e52-b392eaefecb0",
   "metadata": {
    "tags": []
   },
   "outputs": [],
   "source": [
    "x = np.linspace(-2, 2, RES)\n",
    "y = np.linspace(-2, 2, RES)\n",
    "X, Y = np.meshgrid(x, y, indexing = 'xy')\n",
    "diverge, iterations = np.meshgrid(x, y, indexing = 'ij')\n",
    "c = X + 1.j * Y"
   ]
  },
  {
   "cell_type": "code",
   "execution_count": null,
   "id": "87950476-e7e3-4736-b6b8-518034eb1b14",
   "metadata": {
    "tags": []
   },
   "outputs": [],
   "source": [
    "for i in range(RES):\n",
    "    for j in range(RES):\n",
    "        z = 0\n",
    "        n = 0\n",
    "        while abs(z) <= 100 and n < N_ITERATIONS:\n",
    "            z = z**2 + c[i, j]\n",
    "            n += 1\n",
    "        if n == N_ITERATIONS:\n",
    "            diverge[i, j] = 0\n",
    "            iterations[i, j] = N_ITERATIONS\n",
    "        else:\n",
    "            diverge[i, j] = 1\n",
    "            iterations[i, j] = n"
   ]
  },
  {
   "cell_type": "code",
   "execution_count": null,
   "id": "25d018ec",
   "metadata": {
    "tags": []
   },
   "outputs": [],
   "source": [
    "plt.contourf(x, y, diverge, levels = 2)\n",
    "plt.xlabel('Real part')\n",
    "plt.ylabel('Imaginary part')\n",
    "plt.savefig('Mandelbrot Set.png')"
   ]
  },
  {
   "cell_type": "code",
   "execution_count": null,
   "id": "05ebb23a-c040-40a7-acdf-b0dcdc535a06",
   "metadata": {
    "tags": []
   },
   "outputs": [],
   "source": [
    "mycmap1 = plt.get_cmap('gist_earth')\n",
    "plt.figure(dpi = 300)\n",
    "plt.contourf(x, y, iterations, levels = 50, cmap=mycmap1)\n",
    "plt.xlabel('Real part')\n",
    "plt.ylabel('Imaginary part')\n",
    "plt.colorbar(label = 'Iterations')\n",
    "plt.savefig('Mandelbrot Set divergence.png')"
   ]
  },
  {
   "cell_type": "markdown",
   "id": "b4523de5-801c-48b1-a3ae-57172f548c71",
   "metadata": {},
   "source": [
    "## Question 2"
   ]
  },
  {
   "cell_type": "code",
   "execution_count": null,
   "id": "f1924d5a-a579-4780-ab7f-0f5a8a1f2e29",
   "metadata": {
    "tags": []
   },
   "outputs": [],
   "source": [
    "from scipy.integrate import solve_ivp\n",
    "from sympy import *"
   ]
  },
  {
   "cell_type": "markdown",
   "id": "0bd1d373-0b6d-468d-b9a9-ecb748b8752a",
   "metadata": {},
   "source": [
    "Part 1"
   ]
  },
  {
   "cell_type": "code",
   "execution_count": null,
   "id": "a4ae7bbd-42b3-4e2a-a772-fd5edf2a9477",
   "metadata": {
    "tags": []
   },
   "outputs": [],
   "source": [
    "def dW(t, W, sigma, r, b):\n",
    "    X = W[0]\n",
    "    Y = W[1]\n",
    "    Z = W[2]\n",
    "    return [-sigma * (W[0] - W[1]),\\\n",
    "            r * W[0] - W[1] - W[0] * W[2],\\\n",
    "            -b * W[2] + W[0] * W[1]]"
   ]
  },
  {
   "cell_type": "markdown",
   "id": "7e17d041-65f8-42d3-ae6b-c8d2c19b89ac",
   "metadata": {},
   "source": [
    "Part 2"
   ]
  },
  {
   "cell_type": "code",
   "execution_count": null,
   "id": "4a5a0c4f-ca35-4f2f-bcba-6cd2c1d0f049",
   "metadata": {
    "tags": []
   },
   "outputs": [],
   "source": [
    "sol = solve_ivp(fun = dW, t_span = [0., 60.], \\\n",
    "                y0 = [0., 1., 0.], args = (10., 28, 8./3.),\\\n",
    "               max_step = 0.001)\n",
    "print(sol)"
   ]
  },
  {
   "cell_type": "markdown",
   "id": "86276e1f-f7dc-4607-bb61-0fdcf892454d",
   "metadata": {},
   "source": [
    "Part 3"
   ]
  },
  {
   "cell_type": "code",
   "execution_count": null,
   "id": "ea023d8e-7d0d-4c34-a27c-50bfb0fb158f",
   "metadata": {
    "tags": []
   },
   "outputs": [],
   "source": [
    "plt.figure(figsize=(15,4))\n",
    "plt.plot(sol.t, sol.y[1])\n",
    "plt.xlabel('Time')\n",
    "plt.ylabel('Y amplitude')\n",
    "plt.savefig('Y amplitude.png')"
   ]
  },
  {
   "cell_type": "code",
   "execution_count": null,
   "id": "df577478-b5c6-4792-a32a-f6c1f8c97172",
   "metadata": {
    "tags": []
   },
   "outputs": [],
   "source": [
    "f, ax = plt.subplots(2, 1, figsize = [15,20])\n",
    "ax[0].plot(sol.y[1], sol.y[0], linewidth = 0.3)\n",
    "ax[1].plot(sol.y[1], sol.y[2], linewidth = 0.5)\n",
    "ax[0].set_xlabel('Y', size = 20)\n",
    "ax[0].invert_yaxis()\n",
    "ax[0].set_ylabel('X', size = 20)\n",
    "ax[1].set_xlabel('Y', size = 20)\n",
    "ax[1].set_ylabel('Z', size = 20)\n",
    "plt.savefig('Lorenz attractor.png')"
   ]
  },
  {
   "cell_type": "markdown",
   "id": "e8df1820-ee1b-4582-8166-bc382a759dc6",
   "metadata": {},
   "source": [
    "Part 5"
   ]
  },
  {
   "cell_type": "code",
   "execution_count": null,
   "id": "d32a9a39-6877-49d2-a6a6-a9c6e59bb1c3",
   "metadata": {
    "tags": []
   },
   "outputs": [],
   "source": [
    "sol2 = solve_ivp(fun = dW, t_span = [0., 60.], \\\n",
    "                y0 = [0., 1 + 1.e-8, 0.], \\\n",
    "                args = (10., 28, 8./3.), max_step = 0.001)\n",
    "print(sol2)"
   ]
  },
  {
   "cell_type": "code",
   "execution_count": null,
   "id": "0da3bcbc-9a09-4f81-ba29-5a873d8df02b",
   "metadata": {
    "tags": []
   },
   "outputs": [],
   "source": [
    "distance = ((sol2.y[0]-sol.y[0])**2 +\\\n",
    "           (sol2.y[1]-sol.y[1])**2 + \\\n",
    "           (sol2.y[2]-sol.y[2])**2)**0.5\n",
    "plt.plot(sol2.t, distance)\n",
    "plt.yscale('log')\n",
    "plt.xlabel('Time')\n",
    "plt.ylabel('Distance')\n",
    "plt.savefig('Time vs log(distance).png')"
   ]
  }
 ],
 "metadata": {
  "kernelspec": {
   "display_name": "Python 3 (ipykernel)",
   "language": "python",
   "name": "python3"
  },
  "language_info": {
   "codemirror_mode": {
    "name": "ipython",
    "version": 3
   },
   "file_extension": ".py",
   "mimetype": "text/x-python",
   "name": "python",
   "nbconvert_exporter": "python",
   "pygments_lexer": "ipython3",
   "version": "3.10.9"
  }
 },
 "nbformat": 4,
 "nbformat_minor": 5
}
